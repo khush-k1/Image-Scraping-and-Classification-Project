{
 "cells": [
  {
   "cell_type": "code",
   "execution_count": 1,
   "id": "4d827d85",
   "metadata": {},
   "outputs": [],
   "source": [
    " #Importing Libraries\n",
    "import selenium\n",
    "import pandas as pd\n",
    "import time\n",
    "from bs4 import BeautifulSoup\n",
    "\n",
    "# Importing selenium webdriver \n",
    "from selenium import webdriver\n",
    "from selenium.webdriver.common.keys import Keys\n",
    "from selenium.webdriver.common.by import By\n",
    "\n",
    "# Importing required Exceptions which needs to handled\n",
    "from selenium.common.exceptions import StaleElementReferenceException, NoSuchElementException,ElementNotInteractableException\n",
    "\n",
    "#Importing requests\n",
    "import requests\n",
    "\n",
    "# importing regex\n",
    "import re\n",
    "\n",
    "# warning library\n",
    "import warnings\n",
    "warnings.filterwarnings('ignore')"
   ]
  },
  {
   "cell_type": "code",
   "execution_count": 2,
   "id": "ae042145",
   "metadata": {},
   "outputs": [],
   "source": [
    "# getting web driver\n",
    "driver=webdriver.Chrome(r'C:\\Users\\DELL\\Documents\\chromedriver')"
   ]
  },
  {
   "cell_type": "code",
   "execution_count": 3,
   "id": "9774cb58",
   "metadata": {},
   "outputs": [],
   "source": [
    "# getting the website\n",
    "driver.get(\"https://www.amazon.in/\")"
   ]
  },
  {
   "cell_type": "code",
   "execution_count": 4,
   "id": "4b47789a",
   "metadata": {},
   "outputs": [],
   "source": [
    "search_box= driver.find_element(By.XPATH, '//input[@class=\"nav-input nav-progressive-attribute\"]')"
   ]
  },
  {
   "cell_type": "code",
   "execution_count": 5,
   "id": "4856a089",
   "metadata": {},
   "outputs": [],
   "source": [
    "search_box.send_keys('sarees for women')"
   ]
  },
  {
   "cell_type": "code",
   "execution_count": 6,
   "id": "0375e60f",
   "metadata": {},
   "outputs": [],
   "source": [
    "search_button= driver.find_element(By.XPATH, '/html/body/div[1]/header/div/div[1]/div[2]/div/form/div[3]/div/span/input')\n",
    "search_button.click()"
   ]
  },
  {
   "cell_type": "code",
   "execution_count": 8,
   "id": "9144d25b",
   "metadata": {},
   "outputs": [
    {
     "data": {
      "text/plain": [
       "76"
      ]
     },
     "execution_count": 8,
     "metadata": {},
     "output_type": "execute_result"
    }
   ],
   "source": [
    "saree_tag=driver.find_elements(By.XPATH, '//img[@class= \"s-image\"]')\n",
    "image_url=[]\n",
    "for i in saree_tag:\n",
    "    source= i.get_attribute('src')\n",
    "\n",
    "    if source is not None:\n",
    "        if(source[0:4] == 'http'):\n",
    "            image_url.append(source)\n",
    "len(image_url)"
   ]
  },
  {
   "cell_type": "code",
   "execution_count": 9,
   "id": "cd6e4795",
   "metadata": {},
   "outputs": [],
   "source": [
    "page_2=driver.find_element(By.XPATH,'//a[@class=\"s-pagination-item s-pagination-button\"]')\n",
    "page_2.click()\n"
   ]
  },
  {
   "cell_type": "code",
   "execution_count": 10,
   "id": "40abb1d4",
   "metadata": {},
   "outputs": [
    {
     "data": {
      "text/plain": [
       "136"
      ]
     },
     "execution_count": 10,
     "metadata": {},
     "output_type": "execute_result"
    }
   ],
   "source": [
    "saree_tag=driver.find_elements(By.XPATH, '//img[@class= \"s-image\"]')\n",
    "for i in saree_tag:\n",
    "    source= i.get_attribute('src')\n",
    "\n",
    "    if source is not None:\n",
    "        if(source[0:4] == 'http'):\n",
    "            image_url.append(source)\n",
    "len(image_url)"
   ]
  },
  {
   "cell_type": "code",
   "execution_count": 11,
   "id": "635ba97d",
   "metadata": {},
   "outputs": [
    {
     "data": {
      "text/plain": [
       "196"
      ]
     },
     "execution_count": 11,
     "metadata": {},
     "output_type": "execute_result"
    }
   ],
   "source": [
    "page_3=driver.find_element(By.XPATH,'/html/body/div[1]/div[2]/div[1]/div[1]/div/span[1]/div[1]/div[66]/div/div/span/a[3]')\n",
    "page_3.click()\n",
    "time.sleep(2)\n",
    "saree_tag=driver.find_elements(By.XPATH, '//img[@class= \"s-image\"]')\n",
    "for i in saree_tag:\n",
    "    source= i.get_attribute('src')\n",
    "\n",
    "    if source is not None:\n",
    "        if(source[0:4] == 'http'):\n",
    "            image_url.append(source)\n",
    "len(image_url)"
   ]
  },
  {
   "cell_type": "code",
   "execution_count": 12,
   "id": "df3ef18c",
   "metadata": {},
   "outputs": [
    {
     "data": {
      "text/plain": [
       "256"
      ]
     },
     "execution_count": 12,
     "metadata": {},
     "output_type": "execute_result"
    }
   ],
   "source": [
    "page_4=driver.find_element(By.XPATH,'/html/body/div[1]/div[2]/div[1]/div[1]/div/span[1]/div[1]/div[66]/div/div/span/a[4]')\n",
    "page_4.click()\n",
    "time.sleep(2)\n",
    "saree_tag=driver.find_elements(By.XPATH, '//img[@class= \"s-image\"]')\n",
    "for i in saree_tag:\n",
    "    source= i.get_attribute('src')\n",
    "\n",
    "    if source is not None:\n",
    "        if(source[0:4] == 'http'):\n",
    "            image_url.append(source)\n",
    "len(image_url)"
   ]
  },
  {
   "cell_type": "code",
   "execution_count": 13,
   "id": "095e87a2",
   "metadata": {},
   "outputs": [
    {
     "data": {
      "text/plain": [
       "256"
      ]
     },
     "execution_count": 13,
     "metadata": {},
     "output_type": "execute_result"
    }
   ],
   "source": [
    "product=[]\n",
    "for i in range(0,len(image_url)):\n",
    "    product.append('Saree')\n",
    "len(product)"
   ]
  },
  {
   "cell_type": "code",
   "execution_count": 14,
   "id": "5aa99733",
   "metadata": {},
   "outputs": [],
   "source": [
    "search_box=driver.find_element(By.XPATH,'/html/body/div[1]/header/div/div[1]/div[2]/div/form/div[2]/div[1]/input')\n",
    "search_box.clear()"
   ]
  },
  {
   "cell_type": "code",
   "execution_count": 15,
   "id": "9320ef0a",
   "metadata": {},
   "outputs": [],
   "source": [
    "search_box=driver.find_element(By.XPATH,'/html/body/div[1]/header/div/div[1]/div[2]/div/form/div[2]/div[1]/input')\n",
    "search_box.send_keys('Trousers for men')"
   ]
  },
  {
   "cell_type": "code",
   "execution_count": 16,
   "id": "f57fa1a7",
   "metadata": {},
   "outputs": [],
   "source": [
    "srch_btn=driver.find_element(By.XPATH,'/html/body/div[1]/header/div/div[1]/div[2]/div/form/div[3]/div/span/input')\n",
    "srch_btn.click()"
   ]
  },
  {
   "cell_type": "code",
   "execution_count": 17,
   "id": "67c78fb5",
   "metadata": {},
   "outputs": [
    {
     "data": {
      "text/plain": [
       "316"
      ]
     },
     "execution_count": 17,
     "metadata": {},
     "output_type": "execute_result"
    }
   ],
   "source": [
    "\n",
    "image_tag=driver.find_elements(By.XPATH,'//img[@class=\"s-image\"]')\n",
    "for i in image_tag:\n",
    "    source= i.get_attribute('src')\n",
    "\n",
    "    if source is not None:\n",
    "        if(source[0:4] == 'http'):\n",
    "            image_url.append(source)\n",
    "len(image_url)\n"
   ]
  },
  {
   "cell_type": "code",
   "execution_count": 19,
   "id": "3ebc4c30",
   "metadata": {},
   "outputs": [],
   "source": [
    "page2=driver.find_element(By.XPATH, '/html/body/div[1]/div[2]/div[1]/div[1]/div/span[1]/div[1]/div[66]/div/div/span/a[1]')\n",
    "page2.click()"
   ]
  },
  {
   "cell_type": "code",
   "execution_count": 20,
   "id": "1227f3bc",
   "metadata": {},
   "outputs": [
    {
     "data": {
      "text/plain": [
       "376"
      ]
     },
     "execution_count": 20,
     "metadata": {},
     "output_type": "execute_result"
    }
   ],
   "source": [
    "image_tag=driver.find_elements(By.XPATH,'//img[@class=\"s-image\"]')\n",
    "for i in image_tag:\n",
    "    source= i.get_attribute('src')\n",
    "\n",
    "    if source is not None:\n",
    "        if(source[0:4] == 'http'):\n",
    "            image_url.append(source)\n",
    "len(image_url)"
   ]
  },
  {
   "cell_type": "code",
   "execution_count": 21,
   "id": "7c37105c",
   "metadata": {},
   "outputs": [],
   "source": [
    "page3=driver.find_element(By.XPATH,'/html/body/div[1]/div[2]/div[1]/div[1]/div/span[1]/div[1]/div[65]/div/div/span/a[3]')\n",
    "page3.click()"
   ]
  },
  {
   "cell_type": "code",
   "execution_count": 22,
   "id": "4bd43eaf",
   "metadata": {},
   "outputs": [
    {
     "data": {
      "text/plain": [
       "436"
      ]
     },
     "execution_count": 22,
     "metadata": {},
     "output_type": "execute_result"
    }
   ],
   "source": [
    "image_tag=driver.find_elements(By.XPATH,'//img[@class=\"s-image\"]')\n",
    "for i in image_tag:\n",
    "    source= i.get_attribute('src')\n",
    "\n",
    "    if source is not None:\n",
    "        if(source[0:4] == 'http'):\n",
    "            image_url.append(source)\n",
    "len(image_url)"
   ]
  },
  {
   "cell_type": "code",
   "execution_count": 23,
   "id": "f66186f1",
   "metadata": {},
   "outputs": [],
   "source": [
    "page4=driver.find_element(By.XPATH, '/html/body/div[1]/div[2]/div[1]/div[1]/div/span[1]/div[1]/div[65]/div/div/span/a[4]')\n",
    "page4.click()"
   ]
  },
  {
   "cell_type": "code",
   "execution_count": 24,
   "id": "1112e638",
   "metadata": {},
   "outputs": [
    {
     "data": {
      "text/plain": [
       "496"
      ]
     },
     "execution_count": 24,
     "metadata": {},
     "output_type": "execute_result"
    }
   ],
   "source": [
    "image_tag=driver.find_elements(By.XPATH,'//img[@class=\"s-image\"]')\n",
    "for i in image_tag:\n",
    "    source= i.get_attribute('src')\n",
    "\n",
    "    if source is not None:\n",
    "        if(source[0:4] == 'http'):\n",
    "            image_url.append(source)\n",
    "len(image_url)"
   ]
  },
  {
   "cell_type": "code",
   "execution_count": 25,
   "id": "2c30ba87",
   "metadata": {},
   "outputs": [
    {
     "data": {
      "text/plain": [
       "496"
      ]
     },
     "execution_count": 25,
     "metadata": {},
     "output_type": "execute_result"
    }
   ],
   "source": [
    "for i in range(256,len(image_url)):\n",
    "    product.append('Men Trouser')\n",
    "len(product)"
   ]
  },
  {
   "cell_type": "code",
   "execution_count": 26,
   "id": "1f664843",
   "metadata": {},
   "outputs": [],
   "source": [
    "search_box=driver.find_element(By.XPATH,'/html/body/div[1]/header/div/div[1]/div[2]/div/form/div[2]/div[1]/input')\n",
    "search_box.clear()"
   ]
  },
  {
   "cell_type": "code",
   "execution_count": 27,
   "id": "961ecade",
   "metadata": {},
   "outputs": [],
   "source": [
    "search_box=driver.find_element(By.XPATH,'/html/body/div[1]/header/div/div[1]/div[2]/div/form/div[2]/div[1]/input')\n",
    "search_box.send_keys('Jeans for men')"
   ]
  },
  {
   "cell_type": "code",
   "execution_count": 28,
   "id": "3336738d",
   "metadata": {},
   "outputs": [],
   "source": [
    "srch_btn=driver.find_element(By.XPATH,'/html/body/div[1]/header/div/div[1]/div[2]/div/form/div[3]/div/span/input')\n",
    "srch_btn.click()"
   ]
  },
  {
   "cell_type": "code",
   "execution_count": 29,
   "id": "bf24f315",
   "metadata": {},
   "outputs": [
    {
     "data": {
      "text/plain": [
       "568"
      ]
     },
     "execution_count": 29,
     "metadata": {},
     "output_type": "execute_result"
    }
   ],
   "source": [
    "image_tag=driver.find_elements(By.XPATH,'//img[@class=\"s-image\"]')\n",
    "for i in image_tag:\n",
    "    source= i.get_attribute('src')\n",
    "\n",
    "    if source is not None:\n",
    "        if(source[0:4] == 'http'):\n",
    "            image_url.append(source)\n",
    "len(image_url)"
   ]
  },
  {
   "cell_type": "code",
   "execution_count": 31,
   "id": "fb410e1d",
   "metadata": {},
   "outputs": [],
   "source": [
    "page2j=driver.find_element(By.XPATH, '/html/body/div[1]/div[2]/div[1]/div[1]/div/span[1]/div[1]/div[69]/div/div/span/a[1]')\n",
    "page2j.click()"
   ]
  },
  {
   "cell_type": "code",
   "execution_count": 32,
   "id": "2d8e0a41",
   "metadata": {},
   "outputs": [
    {
     "data": {
      "text/plain": [
       "628"
      ]
     },
     "execution_count": 32,
     "metadata": {},
     "output_type": "execute_result"
    }
   ],
   "source": [
    "image_tag=driver.find_elements(By.XPATH,'//img[@class=\"s-image\"]')\n",
    "for i in image_tag:\n",
    "    source= i.get_attribute('src')\n",
    "\n",
    "    if source is not None:\n",
    "        if(source[0:4] == 'http'):\n",
    "            image_url.append(source)\n",
    "len(image_url)"
   ]
  },
  {
   "cell_type": "code",
   "execution_count": 34,
   "id": "3782b4be",
   "metadata": {},
   "outputs": [],
   "source": [
    "page3j=driver.find_element(By.XPATH,'/html/body/div[1]/div[2]/div[1]/div[1]/div/span[1]/div[1]/div[66]/div/div/span/a[3]')\n",
    "page3j.click()"
   ]
  },
  {
   "cell_type": "code",
   "execution_count": 35,
   "id": "f07aaa16",
   "metadata": {},
   "outputs": [
    {
     "data": {
      "text/plain": [
       "688"
      ]
     },
     "execution_count": 35,
     "metadata": {},
     "output_type": "execute_result"
    }
   ],
   "source": [
    "image_tag=driver.find_elements(By.XPATH,'//img[@class=\"s-image\"]')\n",
    "for i in image_tag:\n",
    "    source= i.get_attribute('src')\n",
    "\n",
    "    if source is not None:\n",
    "        if(source[0:4] == 'http'):\n",
    "            image_url.append(source)\n",
    "len(image_url)"
   ]
  },
  {
   "cell_type": "code",
   "execution_count": 36,
   "id": "fb0a5bea",
   "metadata": {},
   "outputs": [],
   "source": [
    "page4j=driver.find_element(By.XPATH,'/html/body/div[1]/div[2]/div[1]/div[1]/div/span[1]/div[1]/div[66]/div/div/span/a[4]')\n",
    "page4j.click()"
   ]
  },
  {
   "cell_type": "code",
   "execution_count": 37,
   "id": "c56eff69",
   "metadata": {},
   "outputs": [
    {
     "data": {
      "text/plain": [
       "748"
      ]
     },
     "execution_count": 37,
     "metadata": {},
     "output_type": "execute_result"
    }
   ],
   "source": [
    "image_tag=driver.find_elements(By.XPATH,'//img[@class=\"s-image\"]')\n",
    "for i in image_tag:\n",
    "    source= i.get_attribute('src')\n",
    "\n",
    "    if source is not None:\n",
    "        if(source[0:4] == 'http'):\n",
    "            image_url.append(source)\n",
    "len(image_url)"
   ]
  },
  {
   "cell_type": "code",
   "execution_count": 38,
   "id": "91a35163",
   "metadata": {},
   "outputs": [
    {
     "data": {
      "text/plain": [
       "748"
      ]
     },
     "execution_count": 38,
     "metadata": {},
     "output_type": "execute_result"
    }
   ],
   "source": [
    "for i in range(496,len(image_url)):\n",
    "    product.append('Men Jeans')\n",
    "len(product)"
   ]
  },
  {
   "cell_type": "code",
   "execution_count": 40,
   "id": "e01de8b6",
   "metadata": {},
   "outputs": [
    {
     "name": "stdout",
     "output_type": "stream",
     "text": [
      "Downloading 0 of 748 image\n",
      "Downloading 1 of 748 image\n",
      "Downloading 2 of 748 image\n",
      "Downloading 3 of 748 image\n",
      "Downloading 4 of 748 image\n",
      "Downloading 5 of 748 image\n",
      "Downloading 6 of 748 image\n",
      "Downloading 7 of 748 image\n",
      "Downloading 8 of 748 image\n",
      "Downloading 9 of 748 image\n",
      "Downloading 10 of 748 image\n",
      "Downloading 11 of 748 image\n",
      "Downloading 12 of 748 image\n",
      "Downloading 13 of 748 image\n",
      "Downloading 14 of 748 image\n",
      "Downloading 15 of 748 image\n",
      "Downloading 16 of 748 image\n",
      "Downloading 17 of 748 image\n",
      "Downloading 18 of 748 image\n",
      "Downloading 19 of 748 image\n",
      "Downloading 20 of 748 image\n",
      "Downloading 21 of 748 image\n",
      "Downloading 22 of 748 image\n",
      "Downloading 23 of 748 image\n",
      "Downloading 24 of 748 image\n",
      "Downloading 25 of 748 image\n",
      "Downloading 26 of 748 image\n",
      "Downloading 27 of 748 image\n",
      "Downloading 28 of 748 image\n",
      "Downloading 29 of 748 image\n",
      "Downloading 30 of 748 image\n",
      "Downloading 31 of 748 image\n",
      "Downloading 32 of 748 image\n",
      "Downloading 33 of 748 image\n",
      "Downloading 34 of 748 image\n",
      "Downloading 35 of 748 image\n",
      "Downloading 36 of 748 image\n",
      "Downloading 37 of 748 image\n",
      "Downloading 38 of 748 image\n",
      "Downloading 39 of 748 image\n",
      "Downloading 40 of 748 image\n",
      "Downloading 41 of 748 image\n",
      "Downloading 42 of 748 image\n",
      "Downloading 43 of 748 image\n",
      "Downloading 44 of 748 image\n",
      "Downloading 45 of 748 image\n",
      "Downloading 46 of 748 image\n",
      "Downloading 47 of 748 image\n",
      "Downloading 48 of 748 image\n",
      "Downloading 49 of 748 image\n",
      "Downloading 50 of 748 image\n",
      "Downloading 51 of 748 image\n",
      "Downloading 52 of 748 image\n",
      "Downloading 53 of 748 image\n",
      "Downloading 54 of 748 image\n",
      "Downloading 55 of 748 image\n",
      "Downloading 56 of 748 image\n",
      "Downloading 57 of 748 image\n",
      "Downloading 58 of 748 image\n",
      "Downloading 59 of 748 image\n",
      "Downloading 60 of 748 image\n",
      "Downloading 61 of 748 image\n",
      "Downloading 62 of 748 image\n",
      "Downloading 63 of 748 image\n",
      "Downloading 64 of 748 image\n",
      "Downloading 65 of 748 image\n",
      "Downloading 66 of 748 image\n",
      "Downloading 67 of 748 image\n",
      "Downloading 68 of 748 image\n",
      "Downloading 69 of 748 image\n",
      "Downloading 70 of 748 image\n",
      "Downloading 71 of 748 image\n",
      "Downloading 72 of 748 image\n",
      "Downloading 73 of 748 image\n",
      "Downloading 74 of 748 image\n",
      "Downloading 75 of 748 image\n",
      "Downloading 76 of 748 image\n",
      "Downloading 77 of 748 image\n",
      "Downloading 78 of 748 image\n",
      "Downloading 79 of 748 image\n",
      "Downloading 80 of 748 image\n",
      "Downloading 81 of 748 image\n",
      "Downloading 82 of 748 image\n",
      "Downloading 83 of 748 image\n",
      "Downloading 84 of 748 image\n",
      "Downloading 85 of 748 image\n",
      "Downloading 86 of 748 image\n",
      "Downloading 87 of 748 image\n",
      "Downloading 88 of 748 image\n",
      "Downloading 89 of 748 image\n",
      "Downloading 90 of 748 image\n",
      "Downloading 91 of 748 image\n",
      "Downloading 92 of 748 image\n",
      "Downloading 93 of 748 image\n",
      "Downloading 94 of 748 image\n",
      "Downloading 95 of 748 image\n",
      "Downloading 96 of 748 image\n",
      "Downloading 97 of 748 image\n",
      "Downloading 98 of 748 image\n",
      "Downloading 99 of 748 image\n",
      "Downloading 100 of 748 image\n",
      "Downloading 101 of 748 image\n",
      "Downloading 102 of 748 image\n",
      "Downloading 103 of 748 image\n",
      "Downloading 104 of 748 image\n",
      "Downloading 105 of 748 image\n",
      "Downloading 106 of 748 image\n",
      "Downloading 107 of 748 image\n",
      "Downloading 108 of 748 image\n",
      "Downloading 109 of 748 image\n",
      "Downloading 110 of 748 image\n",
      "Downloading 111 of 748 image\n",
      "Downloading 112 of 748 image\n",
      "Downloading 113 of 748 image\n",
      "Downloading 114 of 748 image\n",
      "Downloading 115 of 748 image\n",
      "Downloading 116 of 748 image\n",
      "Downloading 117 of 748 image\n",
      "Downloading 118 of 748 image\n",
      "Downloading 119 of 748 image\n",
      "Downloading 120 of 748 image\n",
      "Downloading 121 of 748 image\n",
      "Downloading 122 of 748 image\n",
      "Downloading 123 of 748 image\n",
      "Downloading 124 of 748 image\n",
      "Downloading 125 of 748 image\n",
      "Downloading 126 of 748 image\n",
      "Downloading 127 of 748 image\n",
      "Downloading 128 of 748 image\n",
      "Downloading 129 of 748 image\n",
      "Downloading 130 of 748 image\n",
      "Downloading 131 of 748 image\n",
      "Downloading 132 of 748 image\n",
      "Downloading 133 of 748 image\n",
      "Downloading 134 of 748 image\n",
      "Downloading 135 of 748 image\n",
      "Downloading 136 of 748 image\n",
      "Downloading 137 of 748 image\n",
      "Downloading 138 of 748 image\n",
      "Downloading 139 of 748 image\n",
      "Downloading 140 of 748 image\n",
      "Downloading 141 of 748 image\n",
      "Downloading 142 of 748 image\n",
      "Downloading 143 of 748 image\n",
      "Downloading 144 of 748 image\n",
      "Downloading 145 of 748 image\n",
      "Downloading 146 of 748 image\n",
      "Downloading 147 of 748 image\n",
      "Downloading 148 of 748 image\n",
      "Downloading 149 of 748 image\n",
      "Downloading 150 of 748 image\n",
      "Downloading 151 of 748 image\n",
      "Downloading 152 of 748 image\n",
      "Downloading 153 of 748 image\n",
      "Downloading 154 of 748 image\n",
      "Downloading 155 of 748 image\n",
      "Downloading 156 of 748 image\n",
      "Downloading 157 of 748 image\n",
      "Downloading 158 of 748 image\n",
      "Downloading 159 of 748 image\n",
      "Downloading 160 of 748 image\n",
      "Downloading 161 of 748 image\n",
      "Downloading 162 of 748 image\n",
      "Downloading 163 of 748 image\n",
      "Downloading 164 of 748 image\n",
      "Downloading 165 of 748 image\n",
      "Downloading 166 of 748 image\n",
      "Downloading 167 of 748 image\n",
      "Downloading 168 of 748 image\n",
      "Downloading 169 of 748 image\n",
      "Downloading 170 of 748 image\n",
      "Downloading 171 of 748 image\n",
      "Downloading 172 of 748 image\n",
      "Downloading 173 of 748 image\n",
      "Downloading 174 of 748 image\n",
      "Downloading 175 of 748 image\n",
      "Downloading 176 of 748 image\n",
      "Downloading 177 of 748 image\n",
      "Downloading 178 of 748 image\n",
      "Downloading 179 of 748 image\n",
      "Downloading 180 of 748 image\n",
      "Downloading 181 of 748 image\n",
      "Downloading 182 of 748 image\n",
      "Downloading 183 of 748 image\n",
      "Downloading 184 of 748 image\n",
      "Downloading 185 of 748 image\n",
      "Downloading 186 of 748 image\n",
      "Downloading 187 of 748 image\n",
      "Downloading 188 of 748 image\n",
      "Downloading 189 of 748 image\n",
      "Downloading 190 of 748 image\n",
      "Downloading 191 of 748 image\n",
      "Downloading 192 of 748 image\n",
      "Downloading 193 of 748 image\n",
      "Downloading 194 of 748 image\n",
      "Downloading 195 of 748 image\n",
      "Downloading 196 of 748 image\n",
      "Downloading 197 of 748 image\n",
      "Downloading 198 of 748 image\n",
      "Downloading 199 of 748 image\n",
      "Downloading 200 of 748 image\n",
      "Downloading 201 of 748 image\n",
      "Downloading 202 of 748 image\n",
      "Downloading 203 of 748 image\n",
      "Downloading 204 of 748 image\n",
      "Downloading 205 of 748 image\n",
      "Downloading 206 of 748 image\n",
      "Downloading 207 of 748 image\n",
      "Downloading 208 of 748 image\n",
      "Downloading 209 of 748 image\n",
      "Downloading 210 of 748 image\n",
      "Downloading 211 of 748 image\n",
      "Downloading 212 of 748 image\n",
      "Downloading 213 of 748 image\n",
      "Downloading 214 of 748 image\n",
      "Downloading 215 of 748 image\n",
      "Downloading 216 of 748 image\n",
      "Downloading 217 of 748 image\n",
      "Downloading 218 of 748 image\n",
      "Downloading 219 of 748 image\n",
      "Downloading 220 of 748 image\n",
      "Downloading 221 of 748 image\n",
      "Downloading 222 of 748 image\n",
      "Downloading 223 of 748 image\n",
      "Downloading 224 of 748 image\n",
      "Downloading 225 of 748 image\n",
      "Downloading 226 of 748 image\n",
      "Downloading 227 of 748 image\n",
      "Downloading 228 of 748 image\n",
      "Downloading 229 of 748 image\n",
      "Downloading 230 of 748 image\n",
      "Downloading 231 of 748 image\n",
      "Downloading 232 of 748 image\n",
      "Downloading 233 of 748 image\n",
      "Downloading 234 of 748 image\n",
      "Downloading 235 of 748 image\n",
      "Downloading 236 of 748 image\n",
      "Downloading 237 of 748 image\n",
      "Downloading 238 of 748 image\n",
      "Downloading 239 of 748 image\n",
      "Downloading 240 of 748 image\n",
      "Downloading 241 of 748 image\n",
      "Downloading 242 of 748 image\n",
      "Downloading 243 of 748 image\n",
      "Downloading 244 of 748 image\n",
      "Downloading 245 of 748 image\n",
      "Downloading 246 of 748 image\n",
      "Downloading 247 of 748 image\n",
      "Downloading 248 of 748 image\n",
      "Downloading 249 of 748 image\n",
      "Downloading 250 of 748 image\n",
      "Downloading 251 of 748 image\n",
      "Downloading 252 of 748 image\n",
      "Downloading 253 of 748 image\n",
      "Downloading 254 of 748 image\n",
      "Downloading 255 of 748 image\n",
      "Downloading 256 of 748 image\n",
      "Downloading 257 of 748 image\n",
      "Downloading 258 of 748 image\n",
      "Downloading 259 of 748 image\n",
      "Downloading 260 of 748 image\n",
      "Downloading 261 of 748 image\n",
      "Downloading 262 of 748 image\n",
      "Downloading 263 of 748 image\n",
      "Downloading 264 of 748 image\n",
      "Downloading 265 of 748 image\n",
      "Downloading 266 of 748 image\n",
      "Downloading 267 of 748 image\n",
      "Downloading 268 of 748 image\n",
      "Downloading 269 of 748 image\n",
      "Downloading 270 of 748 image\n",
      "Downloading 271 of 748 image\n",
      "Downloading 272 of 748 image\n",
      "Downloading 273 of 748 image\n",
      "Downloading 274 of 748 image\n",
      "Downloading 275 of 748 image\n",
      "Downloading 276 of 748 image\n",
      "Downloading 277 of 748 image\n",
      "Downloading 278 of 748 image\n",
      "Downloading 279 of 748 image\n",
      "Downloading 280 of 748 image\n",
      "Downloading 281 of 748 image\n",
      "Downloading 282 of 748 image\n",
      "Downloading 283 of 748 image\n",
      "Downloading 284 of 748 image\n",
      "Downloading 285 of 748 image\n",
      "Downloading 286 of 748 image\n",
      "Downloading 287 of 748 image\n"
     ]
    },
    {
     "name": "stdout",
     "output_type": "stream",
     "text": [
      "Downloading 288 of 748 image\n",
      "Downloading 289 of 748 image\n",
      "Downloading 290 of 748 image\n",
      "Downloading 291 of 748 image\n",
      "Downloading 292 of 748 image\n",
      "Downloading 293 of 748 image\n",
      "Downloading 294 of 748 image\n",
      "Downloading 295 of 748 image\n",
      "Downloading 296 of 748 image\n",
      "Downloading 297 of 748 image\n",
      "Downloading 298 of 748 image\n",
      "Downloading 299 of 748 image\n",
      "Downloading 300 of 748 image\n",
      "Downloading 301 of 748 image\n",
      "Downloading 302 of 748 image\n",
      "Downloading 303 of 748 image\n",
      "Downloading 304 of 748 image\n",
      "Downloading 305 of 748 image\n",
      "Downloading 306 of 748 image\n",
      "Downloading 307 of 748 image\n",
      "Downloading 308 of 748 image\n",
      "Downloading 309 of 748 image\n",
      "Downloading 310 of 748 image\n",
      "Downloading 311 of 748 image\n",
      "Downloading 312 of 748 image\n",
      "Downloading 313 of 748 image\n",
      "Downloading 314 of 748 image\n",
      "Downloading 315 of 748 image\n",
      "Downloading 316 of 748 image\n",
      "Downloading 317 of 748 image\n",
      "Downloading 318 of 748 image\n",
      "Downloading 319 of 748 image\n",
      "Downloading 320 of 748 image\n",
      "Downloading 321 of 748 image\n",
      "Downloading 322 of 748 image\n",
      "Downloading 323 of 748 image\n",
      "Downloading 324 of 748 image\n",
      "Downloading 325 of 748 image\n",
      "Downloading 326 of 748 image\n",
      "Downloading 327 of 748 image\n",
      "Downloading 328 of 748 image\n",
      "Downloading 329 of 748 image\n",
      "Downloading 330 of 748 image\n",
      "Downloading 331 of 748 image\n",
      "Downloading 332 of 748 image\n",
      "Downloading 333 of 748 image\n",
      "Downloading 334 of 748 image\n",
      "Downloading 335 of 748 image\n",
      "Downloading 336 of 748 image\n",
      "Downloading 337 of 748 image\n",
      "Downloading 338 of 748 image\n",
      "Downloading 339 of 748 image\n",
      "Downloading 340 of 748 image\n",
      "Downloading 341 of 748 image\n",
      "Downloading 342 of 748 image\n",
      "Downloading 343 of 748 image\n",
      "Downloading 344 of 748 image\n",
      "Downloading 345 of 748 image\n",
      "Downloading 346 of 748 image\n",
      "Downloading 347 of 748 image\n",
      "Downloading 348 of 748 image\n",
      "Downloading 349 of 748 image\n",
      "Downloading 350 of 748 image\n",
      "Downloading 351 of 748 image\n",
      "Downloading 352 of 748 image\n",
      "Downloading 353 of 748 image\n",
      "Downloading 354 of 748 image\n",
      "Downloading 355 of 748 image\n",
      "Downloading 356 of 748 image\n",
      "Downloading 357 of 748 image\n",
      "Downloading 358 of 748 image\n",
      "Downloading 359 of 748 image\n",
      "Downloading 360 of 748 image\n",
      "Downloading 361 of 748 image\n",
      "Downloading 362 of 748 image\n",
      "Downloading 363 of 748 image\n",
      "Downloading 364 of 748 image\n",
      "Downloading 365 of 748 image\n",
      "Downloading 366 of 748 image\n",
      "Downloading 367 of 748 image\n",
      "Downloading 368 of 748 image\n",
      "Downloading 369 of 748 image\n",
      "Downloading 370 of 748 image\n",
      "Downloading 371 of 748 image\n",
      "Downloading 372 of 748 image\n",
      "Downloading 373 of 748 image\n",
      "Downloading 374 of 748 image\n",
      "Downloading 375 of 748 image\n",
      "Downloading 376 of 748 image\n",
      "Downloading 377 of 748 image\n",
      "Downloading 378 of 748 image\n",
      "Downloading 379 of 748 image\n",
      "Downloading 380 of 748 image\n",
      "Downloading 381 of 748 image\n",
      "Downloading 382 of 748 image\n",
      "Downloading 383 of 748 image\n",
      "Downloading 384 of 748 image\n",
      "Downloading 385 of 748 image\n",
      "Downloading 386 of 748 image\n",
      "Downloading 387 of 748 image\n",
      "Downloading 388 of 748 image\n",
      "Downloading 389 of 748 image\n",
      "Downloading 390 of 748 image\n",
      "Downloading 391 of 748 image\n",
      "Downloading 392 of 748 image\n",
      "Downloading 393 of 748 image\n",
      "Downloading 394 of 748 image\n",
      "Downloading 395 of 748 image\n",
      "Downloading 396 of 748 image\n",
      "Downloading 397 of 748 image\n",
      "Downloading 398 of 748 image\n",
      "Downloading 399 of 748 image\n",
      "Downloading 400 of 748 image\n",
      "Downloading 401 of 748 image\n",
      "Downloading 402 of 748 image\n",
      "Downloading 403 of 748 image\n",
      "Downloading 404 of 748 image\n",
      "Downloading 405 of 748 image\n",
      "Downloading 406 of 748 image\n",
      "Downloading 407 of 748 image\n",
      "Downloading 408 of 748 image\n",
      "Downloading 409 of 748 image\n",
      "Downloading 410 of 748 image\n",
      "Downloading 411 of 748 image\n",
      "Downloading 412 of 748 image\n",
      "Downloading 413 of 748 image\n",
      "Downloading 414 of 748 image\n",
      "Downloading 415 of 748 image\n",
      "Downloading 416 of 748 image\n",
      "Downloading 417 of 748 image\n",
      "Downloading 418 of 748 image\n",
      "Downloading 419 of 748 image\n",
      "Downloading 420 of 748 image\n",
      "Downloading 421 of 748 image\n",
      "Downloading 422 of 748 image\n",
      "Downloading 423 of 748 image\n",
      "Downloading 424 of 748 image\n",
      "Downloading 425 of 748 image\n",
      "Downloading 426 of 748 image\n",
      "Downloading 427 of 748 image\n",
      "Downloading 428 of 748 image\n",
      "Downloading 429 of 748 image\n",
      "Downloading 430 of 748 image\n",
      "Downloading 431 of 748 image\n",
      "Downloading 432 of 748 image\n",
      "Downloading 433 of 748 image\n",
      "Downloading 434 of 748 image\n",
      "Downloading 435 of 748 image\n",
      "Downloading 436 of 748 image\n",
      "Downloading 437 of 748 image\n",
      "Downloading 438 of 748 image\n",
      "Downloading 439 of 748 image\n",
      "Downloading 440 of 748 image\n",
      "Downloading 441 of 748 image\n",
      "Downloading 442 of 748 image\n",
      "Downloading 443 of 748 image\n",
      "Downloading 444 of 748 image\n",
      "Downloading 445 of 748 image\n",
      "Downloading 446 of 748 image\n",
      "Downloading 447 of 748 image\n",
      "Downloading 448 of 748 image\n",
      "Downloading 449 of 748 image\n",
      "Downloading 450 of 748 image\n",
      "Downloading 451 of 748 image\n",
      "Downloading 452 of 748 image\n",
      "Downloading 453 of 748 image\n",
      "Downloading 454 of 748 image\n",
      "Downloading 455 of 748 image\n",
      "Downloading 456 of 748 image\n",
      "Downloading 457 of 748 image\n",
      "Downloading 458 of 748 image\n",
      "Downloading 459 of 748 image\n",
      "Downloading 460 of 748 image\n",
      "Downloading 461 of 748 image\n",
      "Downloading 462 of 748 image\n",
      "Downloading 463 of 748 image\n",
      "Downloading 464 of 748 image\n",
      "Downloading 465 of 748 image\n",
      "Downloading 466 of 748 image\n",
      "Downloading 467 of 748 image\n",
      "Downloading 468 of 748 image\n",
      "Downloading 469 of 748 image\n",
      "Downloading 470 of 748 image\n",
      "Downloading 471 of 748 image\n",
      "Downloading 472 of 748 image\n",
      "Downloading 473 of 748 image\n",
      "Downloading 474 of 748 image\n",
      "Downloading 475 of 748 image\n",
      "Downloading 476 of 748 image\n",
      "Downloading 477 of 748 image\n",
      "Downloading 478 of 748 image\n",
      "Downloading 479 of 748 image\n",
      "Downloading 480 of 748 image\n",
      "Downloading 481 of 748 image\n",
      "Downloading 482 of 748 image\n",
      "Downloading 483 of 748 image\n",
      "Downloading 484 of 748 image\n",
      "Downloading 485 of 748 image\n",
      "Downloading 486 of 748 image\n",
      "Downloading 487 of 748 image\n",
      "Downloading 488 of 748 image\n",
      "Downloading 489 of 748 image\n",
      "Downloading 490 of 748 image\n",
      "Downloading 491 of 748 image\n",
      "Downloading 492 of 748 image\n",
      "Downloading 493 of 748 image\n",
      "Downloading 494 of 748 image\n",
      "Downloading 495 of 748 image\n",
      "Downloading 496 of 748 image\n",
      "Downloading 497 of 748 image\n",
      "Downloading 498 of 748 image\n",
      "Downloading 499 of 748 image\n",
      "Downloading 500 of 748 image\n",
      "Downloading 501 of 748 image\n",
      "Downloading 502 of 748 image\n",
      "Downloading 503 of 748 image\n",
      "Downloading 504 of 748 image\n",
      "Downloading 505 of 748 image\n",
      "Downloading 506 of 748 image\n",
      "Downloading 507 of 748 image\n",
      "Downloading 508 of 748 image\n",
      "Downloading 509 of 748 image\n",
      "Downloading 510 of 748 image\n",
      "Downloading 511 of 748 image\n",
      "Downloading 512 of 748 image\n",
      "Downloading 513 of 748 image\n",
      "Downloading 514 of 748 image\n",
      "Downloading 515 of 748 image\n",
      "Downloading 516 of 748 image\n",
      "Downloading 517 of 748 image\n",
      "Downloading 518 of 748 image\n",
      "Downloading 519 of 748 image\n",
      "Downloading 520 of 748 image\n",
      "Downloading 521 of 748 image\n",
      "Downloading 522 of 748 image\n",
      "Downloading 523 of 748 image\n",
      "Downloading 524 of 748 image\n",
      "Downloading 525 of 748 image\n",
      "Downloading 526 of 748 image\n",
      "Downloading 527 of 748 image\n",
      "Downloading 528 of 748 image\n",
      "Downloading 529 of 748 image\n",
      "Downloading 530 of 748 image\n",
      "Downloading 531 of 748 image\n",
      "Downloading 532 of 748 image\n",
      "Downloading 533 of 748 image\n",
      "Downloading 534 of 748 image\n",
      "Downloading 535 of 748 image\n",
      "Downloading 536 of 748 image\n",
      "Downloading 537 of 748 image\n",
      "Downloading 538 of 748 image\n",
      "Downloading 539 of 748 image\n",
      "Downloading 540 of 748 image\n",
      "Downloading 541 of 748 image\n",
      "Downloading 542 of 748 image\n",
      "Downloading 543 of 748 image\n",
      "Downloading 544 of 748 image\n",
      "Downloading 545 of 748 image\n",
      "Downloading 546 of 748 image\n",
      "Downloading 547 of 748 image\n",
      "Downloading 548 of 748 image\n",
      "Downloading 549 of 748 image\n",
      "Downloading 550 of 748 image\n",
      "Downloading 551 of 748 image\n",
      "Downloading 552 of 748 image\n",
      "Downloading 553 of 748 image\n",
      "Downloading 554 of 748 image\n",
      "Downloading 555 of 748 image\n",
      "Downloading 556 of 748 image\n",
      "Downloading 557 of 748 image\n",
      "Downloading 558 of 748 image\n",
      "Downloading 559 of 748 image\n",
      "Downloading 560 of 748 image\n",
      "Downloading 561 of 748 image\n",
      "Downloading 562 of 748 image\n",
      "Downloading 563 of 748 image\n",
      "Downloading 564 of 748 image\n",
      "Downloading 565 of 748 image\n",
      "Downloading 566 of 748 image\n",
      "Downloading 567 of 748 image\n",
      "Downloading 568 of 748 image\n",
      "Downloading 569 of 748 image\n",
      "Downloading 570 of 748 image\n",
      "Downloading 571 of 748 image\n",
      "Downloading 572 of 748 image\n"
     ]
    },
    {
     "name": "stdout",
     "output_type": "stream",
     "text": [
      "Downloading 573 of 748 image\n",
      "Downloading 574 of 748 image\n",
      "Downloading 575 of 748 image\n",
      "Downloading 576 of 748 image\n",
      "Downloading 577 of 748 image\n",
      "Downloading 578 of 748 image\n",
      "Downloading 579 of 748 image\n",
      "Downloading 580 of 748 image\n",
      "Downloading 581 of 748 image\n",
      "Downloading 582 of 748 image\n",
      "Downloading 583 of 748 image\n",
      "Downloading 584 of 748 image\n",
      "Downloading 585 of 748 image\n",
      "Downloading 586 of 748 image\n",
      "Downloading 587 of 748 image\n",
      "Downloading 588 of 748 image\n",
      "Downloading 589 of 748 image\n",
      "Downloading 590 of 748 image\n",
      "Downloading 591 of 748 image\n",
      "Downloading 592 of 748 image\n",
      "Downloading 593 of 748 image\n",
      "Downloading 594 of 748 image\n",
      "Downloading 595 of 748 image\n",
      "Downloading 596 of 748 image\n",
      "Downloading 597 of 748 image\n",
      "Downloading 598 of 748 image\n",
      "Downloading 599 of 748 image\n",
      "Downloading 600 of 748 image\n",
      "Downloading 601 of 748 image\n",
      "Downloading 602 of 748 image\n",
      "Downloading 603 of 748 image\n",
      "Downloading 604 of 748 image\n",
      "Downloading 605 of 748 image\n",
      "Downloading 606 of 748 image\n",
      "Downloading 607 of 748 image\n",
      "Downloading 608 of 748 image\n",
      "Downloading 609 of 748 image\n",
      "Downloading 610 of 748 image\n",
      "Downloading 611 of 748 image\n",
      "Downloading 612 of 748 image\n",
      "Downloading 613 of 748 image\n",
      "Downloading 614 of 748 image\n",
      "Downloading 615 of 748 image\n",
      "Downloading 616 of 748 image\n",
      "Downloading 617 of 748 image\n",
      "Downloading 618 of 748 image\n",
      "Downloading 619 of 748 image\n",
      "Downloading 620 of 748 image\n",
      "Downloading 621 of 748 image\n",
      "Downloading 622 of 748 image\n",
      "Downloading 623 of 748 image\n",
      "Downloading 624 of 748 image\n",
      "Downloading 625 of 748 image\n",
      "Downloading 626 of 748 image\n",
      "Downloading 627 of 748 image\n",
      "Downloading 628 of 748 image\n",
      "Downloading 629 of 748 image\n",
      "Downloading 630 of 748 image\n",
      "Downloading 631 of 748 image\n",
      "Downloading 632 of 748 image\n",
      "Downloading 633 of 748 image\n",
      "Downloading 634 of 748 image\n",
      "Downloading 635 of 748 image\n",
      "Downloading 636 of 748 image\n",
      "Downloading 637 of 748 image\n",
      "Downloading 638 of 748 image\n",
      "Downloading 639 of 748 image\n",
      "Downloading 640 of 748 image\n",
      "Downloading 641 of 748 image\n",
      "Downloading 642 of 748 image\n",
      "Downloading 643 of 748 image\n",
      "Downloading 644 of 748 image\n",
      "Downloading 645 of 748 image\n",
      "Downloading 646 of 748 image\n",
      "Downloading 647 of 748 image\n",
      "Downloading 648 of 748 image\n",
      "Downloading 649 of 748 image\n",
      "Downloading 650 of 748 image\n",
      "Downloading 651 of 748 image\n",
      "Downloading 652 of 748 image\n",
      "Downloading 653 of 748 image\n",
      "Downloading 654 of 748 image\n",
      "Downloading 655 of 748 image\n",
      "Downloading 656 of 748 image\n",
      "Downloading 657 of 748 image\n",
      "Downloading 658 of 748 image\n",
      "Downloading 659 of 748 image\n",
      "Downloading 660 of 748 image\n",
      "Downloading 661 of 748 image\n",
      "Downloading 662 of 748 image\n",
      "Downloading 663 of 748 image\n",
      "Downloading 664 of 748 image\n",
      "Downloading 665 of 748 image\n",
      "Downloading 666 of 748 image\n",
      "Downloading 667 of 748 image\n",
      "Downloading 668 of 748 image\n",
      "Downloading 669 of 748 image\n",
      "Downloading 670 of 748 image\n",
      "Downloading 671 of 748 image\n",
      "Downloading 672 of 748 image\n",
      "Downloading 673 of 748 image\n",
      "Downloading 674 of 748 image\n",
      "Downloading 675 of 748 image\n",
      "Downloading 676 of 748 image\n",
      "Downloading 677 of 748 image\n",
      "Downloading 678 of 748 image\n",
      "Downloading 679 of 748 image\n",
      "Downloading 680 of 748 image\n",
      "Downloading 681 of 748 image\n",
      "Downloading 682 of 748 image\n",
      "Downloading 683 of 748 image\n",
      "Downloading 684 of 748 image\n",
      "Downloading 685 of 748 image\n",
      "Downloading 686 of 748 image\n",
      "Downloading 687 of 748 image\n",
      "Downloading 688 of 748 image\n",
      "Downloading 689 of 748 image\n",
      "Downloading 690 of 748 image\n",
      "Downloading 691 of 748 image\n",
      "Downloading 692 of 748 image\n",
      "Downloading 693 of 748 image\n",
      "Downloading 694 of 748 image\n",
      "Downloading 695 of 748 image\n",
      "Downloading 696 of 748 image\n",
      "Downloading 697 of 748 image\n",
      "Downloading 698 of 748 image\n",
      "Downloading 699 of 748 image\n",
      "Downloading 700 of 748 image\n",
      "Downloading 701 of 748 image\n",
      "Downloading 702 of 748 image\n",
      "Downloading 703 of 748 image\n",
      "Downloading 704 of 748 image\n",
      "Downloading 705 of 748 image\n",
      "Downloading 706 of 748 image\n",
      "Downloading 707 of 748 image\n",
      "Downloading 708 of 748 image\n",
      "Downloading 709 of 748 image\n",
      "Downloading 710 of 748 image\n",
      "Downloading 711 of 748 image\n",
      "Downloading 712 of 748 image\n",
      "Downloading 713 of 748 image\n",
      "Downloading 714 of 748 image\n",
      "Downloading 715 of 748 image\n",
      "Downloading 716 of 748 image\n",
      "Downloading 717 of 748 image\n",
      "Downloading 718 of 748 image\n",
      "Downloading 719 of 748 image\n",
      "Downloading 720 of 748 image\n",
      "Downloading 721 of 748 image\n",
      "Downloading 722 of 748 image\n",
      "Downloading 723 of 748 image\n",
      "Downloading 724 of 748 image\n",
      "Downloading 725 of 748 image\n",
      "Downloading 726 of 748 image\n",
      "Downloading 727 of 748 image\n",
      "Downloading 728 of 748 image\n",
      "Downloading 729 of 748 image\n",
      "Downloading 730 of 748 image\n",
      "Downloading 731 of 748 image\n",
      "Downloading 732 of 748 image\n",
      "Downloading 733 of 748 image\n",
      "Downloading 734 of 748 image\n",
      "Downloading 735 of 748 image\n",
      "Downloading 736 of 748 image\n",
      "Downloading 737 of 748 image\n",
      "Downloading 738 of 748 image\n",
      "Downloading 739 of 748 image\n",
      "Downloading 740 of 748 image\n",
      "Downloading 741 of 748 image\n",
      "Downloading 742 of 748 image\n",
      "Downloading 743 of 748 image\n",
      "Downloading 744 of 748 image\n",
      "Downloading 745 of 748 image\n",
      "Downloading 746 of 748 image\n",
      "Downloading 747 of 748 image\n"
     ]
    }
   ],
   "source": [
    "# Downloading the images\n",
    "for i in range(len(image_url)):\n",
    "    print(\"Downloading {0} of {1} image\".format(i,748))\n",
    "    response= requests.get(image_url[i])\n",
    "    file= open(r\"C:\\Users\\DELL\\OneDrive\\Desktop\\webscraping_images\" + str(i)+\".jpeg\", \"wb\" )\n",
    "    file.write(response.content)"
   ]
  },
  {
   "cell_type": "code",
   "execution_count": 41,
   "id": "b1c6f1f6",
   "metadata": {},
   "outputs": [],
   "source": [
    "driver.close()"
   ]
  },
  {
   "cell_type": "code",
   "execution_count": null,
   "id": "eea1aaf3",
   "metadata": {},
   "outputs": [],
   "source": []
  }
 ],
 "metadata": {
  "kernelspec": {
   "display_name": "Python 3 (ipykernel)",
   "language": "python",
   "name": "python3"
  },
  "language_info": {
   "codemirror_mode": {
    "name": "ipython",
    "version": 3
   },
   "file_extension": ".py",
   "mimetype": "text/x-python",
   "name": "python",
   "nbconvert_exporter": "python",
   "pygments_lexer": "ipython3",
   "version": "3.9.12"
  }
 },
 "nbformat": 4,
 "nbformat_minor": 5
}
